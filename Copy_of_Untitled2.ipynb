{
  "nbformat": 4,
  "nbformat_minor": 0,
  "metadata": {
    "colab": {
      "provenance": [],
      "authorship_tag": "ABX9TyOGLZQiszKszWZpoM+7XNDw",
      "include_colab_link": true
    },
    "kernelspec": {
      "name": "python3",
      "display_name": "Python 3"
    },
    "language_info": {
      "name": "python"
    }
  },
  "cells": [
    {
      "cell_type": "markdown",
      "metadata": {
        "id": "view-in-github",
        "colab_type": "text"
      },
      "source": [
        "<a href=\"https://colab.research.google.com/github/Rahel-asefa/PRODIGY-CS-1/blob/main/Copy_of_Untitled2.ipynb\" target=\"_parent\"><img src=\"https://colab.research.google.com/assets/colab-badge.svg\" alt=\"Open In Colab\"/></a>"
      ]
    },
    {
      "cell_type": "code",
      "source": [
        "\n",
        "def check_password_strength(password):\n",
        "    length=len(password)>=8\n",
        "    contains_uppercase=any(char.isupper() for char in password)\n",
        "    contains_lowercase=any(char.islower() for char in password)\n",
        "    contains_digit= any(char.isdigit() for char in password)\n",
        "    contains_special_char=any(not char.isalnum() for char in password)\n",
        "    if length and contains_uppercase and contains_lowercase and contains_digit and contains_special_char:\n",
        "        return \"Strong\"\n",
        "    elif length and (contains_uppercase or contains_lowercase or contains_digit or contains_special_char):\n",
        "        return \"Moderate\"\n",
        "    else:\n",
        "        return \"Weak\"\n",
        "\n",
        "password = input(\"Enter a password: \")\n",
        "strength = check_password_strength(password)\n",
        "print(\"Password strength:\", strength)"
      ],
      "metadata": {
        "id": "lroX0Ko7Q4vh",
        "colab": {
          "base_uri": "https://localhost:8080/"
        },
        "outputId": "5ea64e17-3045-4e85-e12e-8a43ec9e25f1"
      },
      "execution_count": 2,
      "outputs": [
        {
          "output_type": "stream",
          "name": "stdout",
          "text": [
            "Enter a password: @Richo345\n",
            "Password strength: Strong\n"
          ]
        }
      ]
    },
    {
      "cell_type": "markdown",
      "source": [],
      "metadata": {
        "id": "Luqu-2xQoFH5"
      }
    },
    {
      "cell_type": "code",
      "source": [],
      "metadata": {
        "id": "noVukVBeoFYr"
      },
      "execution_count": null,
      "outputs": []
    },
    {
      "cell_type": "code",
      "source": [],
      "metadata": {
        "id": "HapeJqKKZ5ms"
      },
      "execution_count": null,
      "outputs": []
    }
  ]
}